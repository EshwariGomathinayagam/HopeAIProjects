{
 "cells": [
  {
   "cell_type": "code",
   "execution_count": 3,
   "id": "d0a08848",
   "metadata": {},
   "outputs": [
    {
     "data": {
      "text/plain": [
       "'Very Overweight'"
      ]
     },
     "execution_count": 3,
     "metadata": {},
     "output_type": "execute_result"
    }
   ],
   "source": [
    "from multiFunctionClass import multiFunctionClass\n",
    "\n",
    "multiFunctionClass.BMI()"
   ]
  },
  {
   "cell_type": "code",
   "execution_count": 4,
   "id": "e80491a9",
   "metadata": {},
   "outputs": [
    {
     "name": "stdout",
     "output_type": "stream",
     "text": [
      "Enter a number to check : 75\n"
     ]
    },
    {
     "data": {
      "text/plain": [
       "'No is divisible by 5'"
      ]
     },
     "execution_count": 4,
     "metadata": {},
     "output_type": "execute_result"
    }
   ],
   "source": [
    "multiFunctionClass.divisibleByFive()"
   ]
  },
  {
   "cell_type": "code",
   "execution_count": 5,
   "id": "37df873f",
   "metadata": {},
   "outputs": [
    {
     "data": {
      "text/plain": [
       "'3 is Odd number'"
      ]
     },
     "execution_count": 5,
     "metadata": {},
     "output_type": "execute_result"
    }
   ],
   "source": [
    "multiFunctionClass.oddOReven()"
   ]
  },
  {
   "cell_type": "code",
   "execution_count": 6,
   "id": "68cf2ca6",
   "metadata": {},
   "outputs": [
    {
     "name": "stdout",
     "output_type": "stream",
     "text": [
      "age 67\n"
     ]
    },
    {
     "data": {
      "text/plain": [
       "'Senior Citizen'"
      ]
     },
     "execution_count": 6,
     "metadata": {},
     "output_type": "execute_result"
    }
   ],
   "source": [
    "multiFunctionClass.peopleCategoryByAge()"
   ]
  },
  {
   "cell_type": "code",
   "execution_count": 7,
   "id": "873e39d6",
   "metadata": {},
   "outputs": [
    {
     "name": "stdout",
     "output_type": "stream",
     "text": [
      "Enter any number : -8\n"
     ]
    },
    {
     "data": {
      "text/plain": [
       "'No is negative'"
      ]
     },
     "execution_count": 7,
     "metadata": {},
     "output_type": "execute_result"
    }
   ],
   "source": [
    "multiFunctionClass.positiveOrNegativeNumber()\n"
   ]
  }
 ],
 "metadata": {
  "kernelspec": {
   "display_name": "Python 3",
   "language": "python",
   "name": "python3"
  },
  "language_info": {
   "codemirror_mode": {
    "name": "ipython",
    "version": 3
   },
   "file_extension": ".py",
   "mimetype": "text/x-python",
   "name": "python",
   "nbconvert_exporter": "python",
   "pygments_lexer": "ipython3",
   "version": "3.12.7"
  }
 },
 "nbformat": 4,
 "nbformat_minor": 5
}
