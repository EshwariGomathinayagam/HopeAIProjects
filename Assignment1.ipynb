{
 "cells": [
  {
   "cell_type": "code",
   "execution_count": 1,
   "id": "5e9502cc",
   "metadata": {},
   "outputs": [
    {
     "name": "stdout",
     "output_type": "stream",
     "text": [
      "Welcome to Assignment-1\n"
     ]
    }
   ],
   "source": [
    "print ('Welcome to Assignment-1')"
   ]
  },
  {
   "cell_type": "code",
   "execution_count": 2,
   "id": "6b8dd58f",
   "metadata": {},
   "outputs": [
    {
     "name": "stdout",
     "output_type": "stream",
     "text": [
      "Num1=10\n",
      "Num2=30\n",
      "Add=40\n"
     ]
    }
   ],
   "source": [
    "Num1=10\n",
    "Num2=30\n",
    "Add=Num1+Num2\n",
    "print (f\"Num1={Num1}\")\n",
    "print (f\"Num2={Num2}\")\n",
    "print (f\"Add={Add}\")"
   ]
  },
  {
   "cell_type": "code",
   "execution_count": 3,
   "id": "e58ff1ef",
   "metadata": {},
   "outputs": [
    {
     "name": "stdout",
     "output_type": "stream",
     "text": [
      "Very Overweight\n"
     ]
    }
   ],
   "source": [
    "bmi= int(input(\"Enter the BMI Index: \"))\n",
    "if bmi < 18:\n",
    "    classification = \"Underweight\"\n",
    "elif bmi < 25: \n",
    "    classification = \"Normal weight\"\n",
    "elif bmi < 30: \n",
    "    classification = \"Overweight\"\n",
    "else:\n",
    "    classification = \"Very Overweight\"\n",
    "print(classification)"
   ]
  },
  {
   "cell_type": "code",
   "execution_count": 4,
   "id": "213f67c1",
   "metadata": {},
   "outputs": [
    {
     "name": "stdout",
     "output_type": "stream",
     "text": [
      "Done with Assignment -1\n"
     ]
    }
   ],
   "source": [
    "print(\"Done with Assignment -1\")"
   ]
  }
 ],
 "metadata": {
  "kernelspec": {
   "display_name": "Python 3",
   "language": "python",
   "name": "python3"
  },
  "language_info": {
   "codemirror_mode": {
    "name": "ipython",
    "version": 3
   },
   "file_extension": ".py",
   "mimetype": "text/x-python",
   "name": "python",
   "nbconvert_exporter": "python",
   "pygments_lexer": "ipython3",
   "version": "3.12.7"
  }
 },
 "nbformat": 4,
 "nbformat_minor": 5
}
