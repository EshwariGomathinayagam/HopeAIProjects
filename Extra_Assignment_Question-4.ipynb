{
 "cells": [
  {
   "cell_type": "code",
   "execution_count": 11,
   "id": "4b106ff5",
   "metadata": {},
   "outputs": [
    {
     "name": "stdout",
     "output_type": "stream",
     "text": [
      "Sub-fields in AI are:\n",
      "- Machine Learning\n",
      "- Neural Networks\n",
      "- Vision\n",
      "- Robotics\n",
      "- Speech Processing\n",
      "- Natural Language Processing\n"
     ]
    }
   ],
   "source": [
    "class SubfieldsInAI:\n",
    "    def Subfields():\n",
    "        listSubfields= [\"Machine Learning\",\"Neural Networks\",\"Vision\",\"Robotics\",\"Speech Processing\",\"Natural Language Processing\"]\n",
    "        print(\"Sub-fields in AI are:\")\n",
    "        for fields in listSubfields:\n",
    "            print(f\"- {fields}\")\n",
    "\n",
    "SubfieldsInAI.Subfields()"
   ]
  },
  {
   "cell_type": "code",
   "execution_count": 15,
   "id": "0fc428ee",
   "metadata": {},
   "outputs": [
    {
     "name": "stdout",
     "output_type": "stream",
     "text": [
      "52452 is Even number\n"
     ]
    }
   ],
   "source": [
    "def oddOReven():\n",
    "    num=int(input(\"Enter a number \"))\n",
    "    if num % 2 ==0:\n",
    "        print (f\"{num} is Even number\")\n",
    "    else:\n",
    "        print (f\"{num} is Odd number\")\n",
    "    \n",
    "oddOReven()"
   ]
  },
  {
   "cell_type": "code",
   "execution_count": 17,
   "id": "cbdbc43b",
   "metadata": {},
   "outputs": [
    {
     "name": "stdout",
     "output_type": "stream",
     "text": [
      "Your Gender Male\n",
      "Your Age 12\n",
      "NOT ELIGIBLE\n"
     ]
    }
   ],
   "source": [
    "# Create a function that tells elegibility of marriage for male and female according to their age limit like 21 for male and 18 for female\n",
    "class ElegiblityForMarriage:\n",
    "    def Elegible():\n",
    "        gender=input(\"Your Gender \")\n",
    "        age=int(input(\"Your Age \"))\n",
    "        print (f\"Your Gender {gender}\")\n",
    "        print (f\"Your Age {age}\")\n",
    "        if gender==\"Male\":\n",
    "            if age==21:\n",
    "                print(\"ELIGIBLE\")\n",
    "            else:\n",
    "                print(\"NOT ELIGIBLE\")\n",
    "        else:\n",
    "            if age==18:\n",
    "                print(\"ELIGIBLE\")\n",
    "            else:\n",
    "                print(\"NOT ELIGIBLE\")\n",
    "\n",
    "ElegiblityForMarriage.Elegible()\n",
    "        "
   ]
  },
  {
   "cell_type": "code",
   "execution_count": 30,
   "id": "f60eca35",
   "metadata": {},
   "outputs": [
    {
     "name": "stdout",
     "output_type": "stream",
     "text": [
      "Subject1= 98\n",
      "Subject2= 87\n",
      "Subject3= 95\n",
      "Subject4= 95\n",
      "Subject5= 93\n",
      "Total: 468\n",
      "Percentage: 93.60000000000001\n"
     ]
    }
   ],
   "source": [
    "class FindPercent:\n",
    "    def __init__(self, marks):\n",
    "        self.marks=marks\n",
    "        \n",
    "    def calc_total_marks(self):\n",
    "        return sum(self.marks)\n",
    "    \n",
    "    def calc_percentage(self):\n",
    "        totalMarks=self.calc_total_marks()\n",
    "        return (totalMarks / (len(self.marks) * 100)) * 100\n",
    "\n",
    "marks = [98, 87, 95, 95, 93]\n",
    "objStudentMarks = FindPercent(marks)\n",
    "\n",
    "total = objStudentMarks.calc_total_marks()\n",
    "percentage = objStudentMarks.calc_percentage()\n",
    "\n",
    "\n",
    "for i, mark in enumerate(marks, start=1):\n",
    "    print(f'Subject{i}= {mark}')\n",
    "\n",
    "print(f\"Total: {total}\")\n",
    "print(f\"Percentage: {percentage}\")      "
   ]
  },
  {
   "cell_type": "code",
   "execution_count": 41,
   "id": "98c17e80",
   "metadata": {},
   "outputs": [
    {
     "name": "stdout",
     "output_type": "stream",
     "text": [
      "Height:32\n",
      "Breadth:34\n",
      "Area formula: (Height*Breadth)/2\n",
      "Area of Triangle:  544.0\n",
      "Height1:2\n",
      "Height1:2\n",
      "Breadth:4\n",
      "Perimeter formula: Height1+Height2+Breadth\n",
      "Perimeter of Triangle:  10\n"
     ]
    }
   ],
   "source": [
    "\n",
    "import math\n",
    "\n",
    "class Triangle:\n",
    "    def __init__(self, height1, height2, breadth):\n",
    "        self.height1 = height1\n",
    "        self.height2 = height2\n",
    "        self.breadth = breadth\n",
    "\n",
    "    def perimeter(self):\n",
    "        #Perimeter formula: Height1+Height2+Breadth\n",
    "        return self.height1 + self.height2 + self.breadth\n",
    "\n",
    "    def area(self):\n",
    "        #Area formula: (Height*Breadth)/2\n",
    "        #Area of Triangle: 544.0\n",
    "        return (self.height1*self.breadth)/2\n",
    "\n",
    "triangleArea = Triangle(32, 1, 34)\n",
    "print (f\"Height:{triangleArea.height1}\")\n",
    "print (f\"Breadth:{triangleArea.breadth}\")\n",
    "print (\"Area formula: (Height*Breadth)/2\")\n",
    "print(\"Area of Triangle: \", triangleArea.area())\n",
    "\n",
    "trianglePerimeter = Triangle(2, 4, 4)\n",
    "print (f\"Height1:{trianglePerimeter.height1}\")\n",
    "print (f\"Height1:{trianglePerimeter.height1}\")\n",
    "print (f\"Breadth:{trianglePerimeter.breadth}\")\n",
    "print (\"Perimeter formula: Height1+Height2+Breadth\")\n",
    "print(\"Perimeter of Triangle: \", trianglePerimeter.perimeter())\n"
   ]
  }
 ],
 "metadata": {
  "kernelspec": {
   "display_name": "Python 3",
   "language": "python",
   "name": "python3"
  },
  "language_info": {
   "codemirror_mode": {
    "name": "ipython",
    "version": 3
   },
   "file_extension": ".py",
   "mimetype": "text/x-python",
   "name": "python",
   "nbconvert_exporter": "python",
   "pygments_lexer": "ipython3",
   "version": "3.12.7"
  }
 },
 "nbformat": 4,
 "nbformat_minor": 5
}
