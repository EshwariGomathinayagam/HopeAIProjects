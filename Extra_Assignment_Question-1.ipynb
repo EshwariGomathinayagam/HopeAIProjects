{
 "cells": [
  {
   "cell_type": "code",
   "execution_count": null,
   "id": "cd6a5cfe",
   "metadata": {},
   "outputs": [
    {
     "name": "stdout",
     "output_type": "stream",
     "text": [
      "HOPE AI\n"
     ]
    }
   ],
   "source": [
    "#print Statement\n",
    "print ('HOPE AI')"
   ]
  },
  {
   "cell_type": "code",
   "execution_count": null,
   "id": "cbf8b426",
   "metadata": {},
   "outputs": [
    {
     "name": "stdout",
     "output_type": "stream",
     "text": [
      "Enter your institute name ?  : HOPE AI\n"
     ]
    }
   ],
   "source": [
    "#Buy inputs\n",
    "stringQuestion='Enter your institute name ?  :'\n",
    "stringAnswer =input (stringQuestion)\n",
    "print(f\"{stringQuestion} {stringAnswer}\")"
   ]
  },
  {
   "cell_type": "code",
   "execution_count": null,
   "id": "4577c1cf",
   "metadata": {},
   "outputs": [
    {
     "name": "stdout",
     "output_type": "stream",
     "text": [
      "Enter your name ?  : Raj\n",
      "Enter your age ?  : 15\n",
      "Enter your school name ?  : Guru School\n",
      "Enter your school name ?  : B.E CSE\n"
     ]
    }
   ],
   "source": [
    "#Buy inputs\n",
    "nameQuestion='Enter your name ?  :'\n",
    "nameAnswer =input (nameQuestion)\n",
    "print(f\"{nameQuestion} {nameAnswer}\")\n",
    "ageQuestion='Enter your age ?  :'\n",
    "ageAnswer =input (ageQuestion)\n",
    "print(f\"{ageQuestion} {ageAnswer}\")\n",
    "schoolQuestion='Enter your school name ?  :'\n",
    "schoolAnswer =input (schoolQuestion)\n",
    "print(f\"{schoolQuestion} {schoolAnswer}\")\n",
    "degreeQuestion='Enter your school name ?  :'\n",
    "degreeAnswer =input (degreeQuestion)\n",
    "print(f\"{degreeQuestion} {degreeAnswer}\")"
   ]
  },
  {
   "cell_type": "code",
   "execution_count": 5,
   "id": "15a66985",
   "metadata": {},
   "outputs": [
    {
     "name": "stdout",
     "output_type": "stream",
     "text": [
      "a= 43\n",
      "b= 34\n",
      "add = 77\n"
     ]
    }
   ],
   "source": [
    "#Addition\n",
    "a=43\n",
    "b=34\n",
    "add=a+b\n",
    "print(\"a= 43\")\n",
    "print(\"b= 34\")\n",
    "print(f\"add = {add}\")"
   ]
  },
  {
   "cell_type": "code",
   "execution_count": 7,
   "id": "cbf512d7",
   "metadata": {},
   "outputs": [
    {
     "name": "stdout",
     "output_type": "stream",
     "text": [
      "a= 43\n",
      "b= 34\n",
      "Sub = 9\n"
     ]
    }
   ],
   "source": [
    "#Subtraction\n",
    "a=43\n",
    "b=34\n",
    "Sub=a-b\n",
    "print(\"a= 43\")\n",
    "print(\"b= 34\")\n",
    "print(f\"Sub = {Sub}\")"
   ]
  },
  {
   "cell_type": "code",
   "execution_count": 8,
   "id": "cc2ad8f4",
   "metadata": {},
   "outputs": [
    {
     "name": "stdout",
     "output_type": "stream",
     "text": [
      "a= 63\n",
      "b= 97\n",
      "Mul = 6111\n"
     ]
    }
   ],
   "source": [
    "#Multiplication\n",
    "a=63\n",
    "b=97\n",
    "Mul=a*b\n",
    "print(\"a= 63\")\n",
    "print(\"b= 97\")\n",
    "print(f\"Mul = {Mul}\")"
   ]
  },
  {
   "cell_type": "code",
   "execution_count": 10,
   "id": "1213488f",
   "metadata": {},
   "outputs": [
    {
     "name": "stdout",
     "output_type": "stream",
     "text": [
      "a= 76\n",
      "b= 31\n",
      "Float Div = 2.4516129032258065\n"
     ]
    }
   ],
   "source": [
    "#Division\n",
    "a=76\n",
    "b=31\n",
    "Div=a/b\n",
    "print(\"a= 76\")\n",
    "print(\"b= 31\")\n",
    "print(f\"Float Div = {Div}\")"
   ]
  },
  {
   "cell_type": "code",
   "execution_count": 11,
   "id": "be51e20f",
   "metadata": {},
   "outputs": [
    {
     "name": "stdout",
     "output_type": "stream",
     "text": [
      "a= 76\n",
      "b= 31\n",
      "Floor Div = 2\n"
     ]
    }
   ],
   "source": [
    "#Floor Division\n",
    "a=76\n",
    "b=31\n",
    "Div=a//b\n",
    "print(\"a= 76\")\n",
    "print(\"b= 31\")\n",
    "print(f\"Floor Div = {Div}\")"
   ]
  },
  {
   "cell_type": "code",
   "execution_count": 12,
   "id": "6fe78b35",
   "metadata": {},
   "outputs": [
    {
     "name": "stdout",
     "output_type": "stream",
     "text": [
      "a= 76\n",
      "b= 31\n",
      "Modulo = 14\n"
     ]
    }
   ],
   "source": [
    "#Modulo\n",
    "a=76\n",
    "b=31\n",
    "Modulo=a % b\n",
    "print(\"a= 76\")\n",
    "print(\"b= 31\")\n",
    "print(f\"Modulo = {Modulo}\")"
   ]
  },
  {
   "cell_type": "code",
   "execution_count": 14,
   "id": "e5556eb0",
   "metadata": {},
   "outputs": [
    {
     "name": "stdout",
     "output_type": "stream",
     "text": [
      "a= 4\n",
      "b= 4\n",
      "Power = 256\n"
     ]
    }
   ],
   "source": [
    "#Power\n",
    "a=4\n",
    "b=4\n",
    "Power=a**b\n",
    "print(\"a= 4\")\n",
    "print(\"b= 4\")\n",
    "print(f\"Power = {Power}\")"
   ]
  }
 ],
 "metadata": {
  "kernelspec": {
   "display_name": "Python 3",
   "language": "python",
   "name": "python3"
  },
  "language_info": {
   "codemirror_mode": {
    "name": "ipython",
    "version": 3
   },
   "file_extension": ".py",
   "mimetype": "text/x-python",
   "name": "python",
   "nbconvert_exporter": "python",
   "pygments_lexer": "ipython3",
   "version": "3.12.7"
  }
 },
 "nbformat": 4,
 "nbformat_minor": 5
}
