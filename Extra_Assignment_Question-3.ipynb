{
 "cells": [
  {
   "cell_type": "code",
   "execution_count": null,
   "id": "92c78a33",
   "metadata": {},
   "outputs": [
    {
     "name": "stdout",
     "output_type": "stream",
     "text": [
      "value: 10\n",
      "Correct\n"
     ]
    }
   ],
   "source": [
    "# print 'CORRECT' if i == 10\n",
    "i= int(input(\"i \"))\n",
    "print (f\"value: {i}\")\n",
    "if i ==10:\n",
    "    print(\"Correct\")"
   ]
  },
  {
   "cell_type": "code",
   "execution_count": 9,
   "id": "1738fc43",
   "metadata": {},
   "outputs": [
    {
     "name": "stdout",
     "output_type": "stream",
     "text": [
      "Enter the password: HOPE@123\n",
      "Your password is correct\n"
     ]
    }
   ],
   "source": [
    "# Check the password, using if and else\n",
    "pwd= (input(\"Enter the password \"))\n",
    "print(f\"Enter the password: {pwd}\")\n",
    "if pwd ==\"HOPE@123\":\n",
    "    print(\"Your password is correct\")\n",
    "else:\n",
    "    print(\"Your password is incorrect\")"
   ]
  },
  {
   "cell_type": "code",
   "execution_count": 11,
   "id": "6af0009a",
   "metadata": {},
   "outputs": [
    {
     "name": "stdout",
     "output_type": "stream",
     "text": [
      "age 20\n",
      "Adult\n"
     ]
    }
   ],
   "source": [
    "# Category the people by their age like children, adult, citizen, senior citizen..\n",
    "age= int(input(\"Enter age: \"))\n",
    "print(f\"age {age}\")\n",
    "if age < 18:\n",
    "    peopleCategory = \"Children\"\n",
    "elif age < 35: \n",
    "    peopleCategory = \"Adult\"\n",
    "elif age < 59: \n",
    "    peopleCategory = \"Citizen\"\n",
    "else:\n",
    "    peopleCategory = \"Senior Citizen\"\n",
    "print(peopleCategory)"
   ]
  },
  {
   "cell_type": "code",
   "execution_count": 17,
   "id": "a1cb1548",
   "metadata": {},
   "outputs": [
    {
     "name": "stdout",
     "output_type": "stream",
     "text": [
      "Enter any number : 1\n",
      "No is positive\n"
     ]
    }
   ],
   "source": [
    "# Find whether given number is positive or negative\n",
    "num=int(input(\"Enter any number\"))\n",
    "print(f\"Enter any number : {num}\")\n",
    "if num < 0:\n",
    "    print(\"No is negative\")\n",
    "else:\n",
    "    print(\"No is positive\")"
   ]
  },
  {
   "cell_type": "code",
   "execution_count": 19,
   "id": "4e3e5840",
   "metadata": {},
   "outputs": [
    {
     "name": "stdout",
     "output_type": "stream",
     "text": [
      "Enter a number to check : 22\n",
      "No is not divisible by 5\n"
     ]
    }
   ],
   "source": [
    "# Check whether the given number is divisible by 5\n",
    "num=int(input(\"Enter a number to check\"))\n",
    "print(f\"Enter a number to check : {num}\")\n",
    "if num % 5 == 0:\n",
    "    print(\"No is divisible by 5\")\n",
    "else:\n",
    "    print(\"No is not divisible by 5\")"
   ]
  }
 ],
 "metadata": {
  "kernelspec": {
   "display_name": "Python 3",
   "language": "python",
   "name": "python3"
  },
  "language_info": {
   "codemirror_mode": {
    "name": "ipython",
    "version": 3
   },
   "file_extension": ".py",
   "mimetype": "text/x-python",
   "name": "python",
   "nbconvert_exporter": "python",
   "pygments_lexer": "ipython3",
   "version": "3.12.7"
  }
 },
 "nbformat": 4,
 "nbformat_minor": 5
}
